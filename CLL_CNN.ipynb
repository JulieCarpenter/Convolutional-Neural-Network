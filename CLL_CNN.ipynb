{
  "nbformat": 4,
  "nbformat_minor": 0,
  "metadata": {
    "colab": {
      "provenance": [],
      "private_outputs": true,
      "collapsed_sections": [
        "NzSeN36QAcos",
        "ETW2HOREA05Q",
        "2hBYf0VBOV67"
      ],
      "toc_visible": true,
      "include_colab_link": true
    },
    "kernelspec": {
      "name": "python3",
      "display_name": "Python 3"
    },
    "language_info": {
      "name": "python"
    }
  },
  "cells": [
    {
      "cell_type": "markdown",
      "metadata": {
        "id": "view-in-github",
        "colab_type": "text"
      },
      "source": [
        "<a href=\"https://colab.research.google.com/github/JulieCarpenter/Convolutional-Neural-Network/blob/main/CLL_CNN.ipynb\" target=\"_parent\"><img src=\"https://colab.research.google.com/assets/colab-badge.svg\" alt=\"Open In Colab\"/></a>"
      ]
    },
    {
      "cell_type": "markdown",
      "source": [
        "## Import Packages"
      ],
      "metadata": {
        "id": "NzSeN36QAcos"
      }
    },
    {
      "cell_type": "code",
      "source": [
        "import tensorflow as tf\n",
        "from tensorflow.keras.preprocessing.image import load_img, array_to_img\n",
        "from tensorflow.keras.utils import to_categorical\n",
        "\n",
        "import keras\n",
        "from keras.datasets import mnist\n",
        "from keras.models import Sequential\n",
        "from keras.layers import Dense\n",
        "\n",
        "import numpy as np\n",
        "import matplotlib.pyplot as plt\n",
        "%matplotlib inline"
      ],
      "metadata": {
        "id": "YBaVmyA6AoNx"
      },
      "execution_count": null,
      "outputs": []
    },
    {
      "cell_type": "markdown",
      "source": [],
      "metadata": {
        "id": "REOMxJyxAmAR"
      }
    },
    {
      "cell_type": "markdown",
      "source": [
        "## Load the Data\n"
      ],
      "metadata": {
        "id": "ETW2HOREA05Q"
      }
    },
    {
      "cell_type": "markdown",
      "source": [
        "### Populate the train and test datasets"
      ],
      "metadata": {
        "id": "JBs_fp-4BE0T"
      }
    },
    {
      "cell_type": "code",
      "source": [
        "(X_train, y_train), (X_test, y_test) = mnist.load_data()"
      ],
      "metadata": {
        "id": "8CWzNxJcA7c_"
      },
      "execution_count": null,
      "outputs": []
    },
    {
      "cell_type": "markdown",
      "source": [
        "### Verify successful load"
      ],
      "metadata": {
        "id": "S0qSoq2_BWdA"
      }
    },
    {
      "cell_type": "code",
      "source": [
        "print(X_train.shape) # Expecting 60,000 records of size 28 x 28\n",
        "print(y_train.shape) # Expecting 60,000 records\n",
        "print(X_test.shape)  # Expecting 10,000 records of size 28 x 28\n",
        "print(y_test.shape)  # Expecting 10,000 records"
      ],
      "metadata": {
        "id": "JXO0g76WBfZj"
      },
      "execution_count": null,
      "outputs": []
    },
    {
      "cell_type": "markdown",
      "source": [],
      "metadata": {
        "id": "uyO-AzkAB3il"
      }
    },
    {
      "cell_type": "markdown",
      "source": [
        "### Explore the image data"
      ],
      "metadata": {
        "id": "DGxoznrPCAlb"
      }
    },
    {
      "cell_type": "code",
      "source": [
        "X_train[0].shape  # Expecting 28 x 28 as above"
      ],
      "metadata": {
        "id": "qf8MGCvGCS_s"
      },
      "execution_count": null,
      "outputs": []
    },
    {
      "cell_type": "code",
      "source": [
        "plt.imshow(X_train[0], cmap=\"gray\");  # Show first image"
      ],
      "metadata": {
        "id": "k0Ubac69CZsx"
      },
      "execution_count": null,
      "outputs": []
    },
    {
      "cell_type": "code",
      "source": [
        "y_train[0] # Expecting 5 as previous image suggests"
      ],
      "metadata": {
        "id": "9ETzhQJ0DiNj"
      },
      "execution_count": null,
      "outputs": []
    },
    {
      "cell_type": "markdown",
      "source": [
        "### Process the image data"
      ],
      "metadata": {
        "id": "4m02BXIWEiqn"
      }
    },
    {
      "cell_type": "markdown",
      "source": [
        "#### Preprocess the independent features"
      ],
      "metadata": {
        "id": "N2Nf9VTmJpvO"
      }
    },
    {
      "cell_type": "code",
      "source": [
        "image_height, image_width = 28, 28  # Set variables height & width to 28 for preprocessing the images"
      ],
      "metadata": {
        "id": "jFQkT8iAEnRp"
      },
      "execution_count": null,
      "outputs": []
    },
    {
      "cell_type": "code",
      "source": [
        "X_train = X_train.reshape(60000, image_height*image_width) # Reformat from 28x28 to single layer (784 pixles(neurons))\n",
        "print(X_train.shape)\n",
        "X_test = X_test.reshape(10000, image_height*image_width)\n",
        "print(X_test.shape)"
      ],
      "metadata": {
        "id": "Zm_PmkZWFCHZ"
      },
      "execution_count": null,
      "outputs": []
    },
    {
      "cell_type": "code",
      "source": [
        "print(X_train[0])  # Verify greyscale (0-255)\n",
        "X_train = X_train.astype('float32') # Convert to float for next step\n",
        "print(X_test[0])  # Verify greyscale (0-255)\n",
        "X_test = X_test.astype('float32')"
      ],
      "metadata": {
        "id": "0VIFW9h8FrUR"
      },
      "execution_count": null,
      "outputs": []
    },
    {
      "cell_type": "code",
      "source": [
        "X_train /= 255.0  # Transform X values from 0-255 to 0-1\n",
        "X_test /= 255.0\n",
        "print(X_train[0]) # Verify"
      ],
      "metadata": {
        "id": "1UcsC6rmGKw-"
      },
      "execution_count": null,
      "outputs": []
    },
    {
      "cell_type": "markdown",
      "source": [],
      "metadata": {
        "id": "-x8Ty2LtHvAV"
      }
    },
    {
      "cell_type": "markdown",
      "source": [
        "#### Preprocess the target output"
      ],
      "metadata": {
        "id": "-1i-omo5J680"
      }
    },
    {
      "cell_type": "code",
      "source": [
        "print(y_train.shape) # Verify y has one dimentional shape\n",
        "print(y_test.shape)"
      ],
      "metadata": {
        "id": "pJs9BORYGgKp"
      },
      "execution_count": null,
      "outputs": []
    },
    {
      "cell_type": "code",
      "source": [
        "y_train = to_categorical(y_train, 10) # Categorize each digit to a bin\n",
        "print(y_train.shape)\n",
        "y_test = to_categorical(y_test, 10) # Classify 10 digits to 10 bins\n",
        "print(y_test.shape)"
      ],
      "metadata": {
        "id": "C_nIAblaHKrD"
      },
      "execution_count": null,
      "outputs": []
    },
    {
      "cell_type": "markdown",
      "source": [
        "## Build a Neural Network Model"
      ],
      "metadata": {
        "id": "2hBYf0VBOV67"
      }
    },
    {
      "cell_type": "code",
      "source": [
        "model = Sequential() # Instantiate a sequential model"
      ],
      "metadata": {
        "id": "oa5HXO0uOtnI"
      },
      "execution_count": null,
      "outputs": []
    },
    {
      "cell_type": "code",
      "source": [
        "model.add(Dense(512, activation='relu', input_shape=(784,))) # Create first layer of model\n",
        "model.add(Dense(512, activation='relu')) # Create second layer of model\n",
        "model.add(Dense(10, activation='softmax'))"
      ],
      "metadata": {
        "id": "siu7Z3wAPV3L"
      },
      "execution_count": null,
      "outputs": []
    },
    {
      "cell_type": "markdown",
      "source": [
        "## Compile the model"
      ],
      "metadata": {
        "id": "AaVa9LdMQUZe"
      }
    },
    {
      "cell_type": "code",
      "source": [
        "model.compile(optimizer='adam', loss='categorical_crossentropy', metrics=['accuracy']) # adam is algorithm used, categorical_crossentropy allows our 10 bins\n",
        "model.summary()"
      ],
      "metadata": {
        "id": "zzXRAFjiQYyI"
      },
      "execution_count": null,
      "outputs": []
    },
    {
      "cell_type": "code",
      "source": [
        "784*512+512 # pixels(input) * nodes + bias = Param # for first layer"
      ],
      "metadata": {
        "id": "sQKg1uAFSIiX"
      },
      "execution_count": null,
      "outputs": []
    },
    {
      "cell_type": "code",
      "source": [
        "512*512+512 # input nodes * nodes + bias = Param # for second layer (input now 512)"
      ],
      "metadata": {
        "id": "YX0zBpiXSl6d"
      },
      "execution_count": null,
      "outputs": []
    },
    {
      "cell_type": "code",
      "source": [
        "512*10+10 # input nodes * nodes + bias = Param # for final layer"
      ],
      "metadata": {
        "id": "KPvZNwozTFt4"
      },
      "execution_count": null,
      "outputs": []
    },
    {
      "cell_type": "markdown",
      "source": [
        "## Train the model"
      ],
      "metadata": {
        "id": "4p3AjW8uTZEQ"
      }
    },
    {
      "cell_type": "code",
      "source": [
        "history = model.fit(X_train, y_train, epochs=11, validation_data=(X_test, y_test))"
      ],
      "metadata": {
        "id": "L9261i7UTd0I"
      },
      "execution_count": null,
      "outputs": []
    },
    {
      "cell_type": "markdown",
      "source": [
        "## Evaluate accuracy"
      ],
      "metadata": {
        "id": "zbJgFqxqVMN9"
      }
    },
    {
      "cell_type": "markdown",
      "source": [
        "### Plot the accuracy of the model"
      ],
      "metadata": {
        "id": "A309lOPlVcHh"
      }
    },
    {
      "cell_type": "code",
      "source": [
        "plt.plot(history.history['accuracy'])"
      ],
      "metadata": {
        "id": "SlIN_TeafhlG"
      },
      "execution_count": null,
      "outputs": []
    },
    {
      "cell_type": "code",
      "source": [
        "\n",
        "plt.plot(history.history['accuracy'], 'g-', history.history['val_accuracy'], 'c-', history.history['loss'], 'r-')\n",
        "plt.title('Model Accuracy & Loss')\n",
        "plt.xlabel('Epoch')\n",
        "plt.legend(['Train', 'Validation', 'Loss'], loc='right')\n",
        "plt.show();\n"
      ],
      "metadata": {
        "id": "V_Us31cV5unh"
      },
      "execution_count": null,
      "outputs": []
    },
    {
      "cell_type": "markdown",
      "source": [
        "### Evaluate the model"
      ],
      "metadata": {
        "id": "LnUSpc4bXzMw"
      }
    },
    {
      "cell_type": "code",
      "source": [
        "score = model.evaluate(X_test, y_test)\n",
        "score"
      ],
      "metadata": {
        "id": "x5TNjTlHYxuF"
      },
      "execution_count": null,
      "outputs": []
    }
  ]
}